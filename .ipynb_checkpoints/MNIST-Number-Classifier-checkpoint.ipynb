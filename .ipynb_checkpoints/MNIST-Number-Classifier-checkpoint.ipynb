{
 "cells": [
  {
   "cell_type": "markdown",
   "id": "bb11c322",
   "metadata": {},
   "source": [
    "#### Fetching Data from OpenML"
   ]
  },
  {
   "cell_type": "code",
   "execution_count": 1,
   "id": "739b7ad6",
   "metadata": {},
   "outputs": [
    {
     "name": "stderr",
     "output_type": "stream",
     "text": [
      "C:\\Users\\Karan\\anaconda3\\envs\\tensorflow\\lib\\site-packages\\scipy\\__init__.py:146: UserWarning: A NumPy version >=1.16.5 and <1.23.0 is required for this version of SciPy (detected version 1.23.1\n",
      "  warnings.warn(f\"A NumPy version >={np_minversion} and <{np_maxversion}\"\n"
     ]
    }
   ],
   "source": [
    "import numpy as np\n",
    "\n",
    "from sklearn.datasets import fetch_openml\n",
    "mnist = fetch_openml('mnist_784', version=1, as_frame=False)\n"
   ]
  },
  {
   "cell_type": "markdown",
   "id": "bf80ee3a",
   "metadata": {},
   "source": [
    "#### Extracting data and label from dictionary"
   ]
  },
  {
   "cell_type": "code",
   "execution_count": 2,
   "id": "5527fa2d",
   "metadata": {},
   "outputs": [
    {
     "data": {
      "text/plain": [
       "dict_keys(['data', 'target', 'frame', 'categories', 'feature_names', 'target_names', 'DESCR', 'details', 'url'])"
      ]
     },
     "execution_count": 2,
     "metadata": {},
     "output_type": "execute_result"
    }
   ],
   "source": [
    "mnist.keys()"
   ]
  },
  {
   "cell_type": "code",
   "execution_count": 3,
   "id": "cc094fa4",
   "metadata": {},
   "outputs": [],
   "source": [
    "X, Y = mnist['data'], mnist['target']"
   ]
  },
  {
   "cell_type": "markdown",
   "id": "ff45b394",
   "metadata": {},
   "source": [
    "#### Understanding dataset"
   ]
  },
  {
   "cell_type": "code",
   "execution_count": 4,
   "id": "94e849d0",
   "metadata": {},
   "outputs": [
    {
     "data": {
      "text/plain": [
       "array([[0., 0., 0., ..., 0., 0., 0.],\n",
       "       [0., 0., 0., ..., 0., 0., 0.],\n",
       "       [0., 0., 0., ..., 0., 0., 0.],\n",
       "       ...,\n",
       "       [0., 0., 0., ..., 0., 0., 0.],\n",
       "       [0., 0., 0., ..., 0., 0., 0.],\n",
       "       [0., 0., 0., ..., 0., 0., 0.]])"
      ]
     },
     "execution_count": 4,
     "metadata": {},
     "output_type": "execute_result"
    }
   ],
   "source": [
    "X"
   ]
  },
  {
   "cell_type": "code",
   "execution_count": 5,
   "id": "be17e0b5",
   "metadata": {},
   "outputs": [
    {
     "data": {
      "text/plain": [
       "(70000, 784)"
      ]
     },
     "execution_count": 5,
     "metadata": {},
     "output_type": "execute_result"
    }
   ],
   "source": [
    "X.shape"
   ]
  },
  {
   "cell_type": "code",
   "execution_count": 6,
   "id": "ef9ef987",
   "metadata": {},
   "outputs": [
    {
     "data": {
      "text/plain": [
       "array(['5', '0', '4', ..., '4', '5', '6'], dtype=object)"
      ]
     },
     "execution_count": 6,
     "metadata": {},
     "output_type": "execute_result"
    }
   ],
   "source": [
    "Y"
   ]
  },
  {
   "cell_type": "code",
   "execution_count": 7,
   "id": "62d87375",
   "metadata": {},
   "outputs": [
    {
     "data": {
      "text/plain": [
       "(70000,)"
      ]
     },
     "execution_count": 7,
     "metadata": {},
     "output_type": "execute_result"
    }
   ],
   "source": [
    "Y.shape"
   ]
  },
  {
   "cell_type": "code",
   "execution_count": 8,
   "id": "b26a175d",
   "metadata": {},
   "outputs": [
    {
     "data": {
      "text/plain": [
       "dtype('O')"
      ]
     },
     "execution_count": 8,
     "metadata": {},
     "output_type": "execute_result"
    }
   ],
   "source": [
    "Y.dtype"
   ]
  },
  {
   "cell_type": "code",
   "execution_count": 9,
   "id": "4d09afb2",
   "metadata": {},
   "outputs": [],
   "source": [
    "# Changing the dtype from object to integer\n",
    "\n",
    "Y = Y.astype(np.int32)"
   ]
  },
  {
   "cell_type": "markdown",
   "id": "d6b4363e",
   "metadata": {},
   "source": [
    "#### Spliting the dataset into training and testing data"
   ]
  },
  {
   "cell_type": "code",
   "execution_count": 10,
   "id": "cc1cd63f",
   "metadata": {},
   "outputs": [],
   "source": [
    "# MNIST data is already split into training and testing set\n",
    "\n",
    "X_train, X_test, Y_train, Y_test = X[:60000], X[60000:], Y[:60000], Y[60000:]"
   ]
  },
  {
   "cell_type": "markdown",
   "id": "fa35ca43",
   "metadata": {},
   "source": [
    "#### Increasing the total training dataset by shifting the image in all direction"
   ]
  },
  {
   "cell_type": "code",
   "execution_count": 11,
   "id": "c8c2edd7",
   "metadata": {},
   "outputs": [],
   "source": [
    "from scipy.ndimage import shift\n",
    "\n",
    "# Creating function to shift the image in given direction\n",
    "\n",
    "def shift_image(image, dx, dy):\n",
    "    image = image.reshape((28, 28))\n",
    "    shifted_image = shift(image, [dy, dx], cval=0, mode='constant')\n",
    "    return shifted_image.reshape([-1])"
   ]
  },
  {
   "cell_type": "code",
   "execution_count": 12,
   "id": "423bd994",
   "metadata": {},
   "outputs": [],
   "source": [
    "X_train_augmented = [image for image in X_train]\n",
    "Y_train_augmented = [image for image in Y_train]\n",
    "\n",
    "# Appending the dataset with the shifted image\n",
    "\n",
    "for dx, dy in ((1,0), (-1,0), (0,1), (0, -1)):\n",
    "    for image, label in zip(X_train, Y_train):\n",
    "        X_train_augmented.append(shift_image(image, dx, dy))\n",
    "        Y_train_augmented.append(label)"
   ]
  },
  {
   "cell_type": "code",
   "execution_count": 13,
   "id": "cf4ac11d",
   "metadata": {},
   "outputs": [],
   "source": [
    "X_train_augmented = np.array(X_train_augmented)\n",
    "Y_train_augmented = np.array(Y_train_augmented)\n",
    "\n",
    "# Shuffling the dataset to avoid any biasness\n",
    "\n",
    "shuffle_index = np.random.permutation(len(X_train_augmented))\n",
    "\n",
    "X_train_augmented = X_train_augmented[shuffle_index]\n",
    "Y_train_augmented = Y_train_augmented[shuffle_index]\n"
   ]
  },
  {
   "cell_type": "markdown",
   "id": "edcee59b",
   "metadata": {},
   "source": [
    "#### Creating and testing the accuracy of Model"
   ]
  },
  {
   "cell_type": "code",
   "execution_count": 14,
   "id": "5f73880e",
   "metadata": {},
   "outputs": [],
   "source": [
    "from sklearn.neighbors import KNeighborsClassifier\n",
    "knc_clf = KNeighborsClassifier(n_neighbors=4, weights='distance')"
   ]
  },
  {
   "cell_type": "code",
   "execution_count": 16,
   "id": "16296ffa",
   "metadata": {},
   "outputs": [
    {
     "data": {
      "text/plain": [
       "KNeighborsClassifier(n_neighbors=4, weights='distance')"
      ]
     },
     "execution_count": 16,
     "metadata": {},
     "output_type": "execute_result"
    }
   ],
   "source": [
    "knc_clf.fit(X_train_augmented, Y_train_augmented)"
   ]
  },
  {
   "cell_type": "code",
   "execution_count": 17,
   "id": "90d13562",
   "metadata": {},
   "outputs": [
    {
     "data": {
      "text/plain": [
       "0.9763"
      ]
     },
     "execution_count": 17,
     "metadata": {},
     "output_type": "execute_result"
    }
   ],
   "source": [
    "Y_test_pred = knc_clf.predict(X_test)\n",
    "\n",
    "# Lets Check the accuracy\n",
    "from sklearn.metrics import accuracy_score\n",
    "accuracy_score(Y_test, Y_test_pred)"
   ]
  },
  {
   "cell_type": "markdown",
   "id": "e53068d4",
   "metadata": {},
   "source": [
    "#### Thank You!!!"
   ]
  }
 ],
 "metadata": {
  "kernelspec": {
   "display_name": "Python 3 (ipykernel)",
   "language": "python",
   "name": "python3"
  },
  "language_info": {
   "codemirror_mode": {
    "name": "ipython",
    "version": 3
   },
   "file_extension": ".py",
   "mimetype": "text/x-python",
   "name": "python",
   "nbconvert_exporter": "python",
   "pygments_lexer": "ipython3",
   "version": "3.9.12"
  }
 },
 "nbformat": 4,
 "nbformat_minor": 5
}
